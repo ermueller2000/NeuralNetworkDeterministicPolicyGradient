{
 "metadata": {
  "language": "Julia",
  "name": "",
  "signature": "sha256:c12021c10fe2d61dd6aca23086880cf3d519de2a33717d08842649ff6cb35737"
 },
 "nbformat": 3,
 "nbformat_minor": 0,
 "worksheets": [
  {
   "cells": [
    {
     "cell_type": "code",
     "collapsed": false,
     "input": [
      "using MTNCAR, NeuralNetworkDeterministicPolicyGradient, PyPlot"
     ],
     "language": "python",
     "metadata": {},
     "outputs": [
      {
       "output_type": "stream",
       "stream": "stderr",
       "text": [
        "INFO: Loading help data...\n"
       ]
      }
     ],
     "prompt_number": 1
    },
    {
     "cell_type": "code",
     "collapsed": false,
     "input": [
      "#cast problem functions in the correct form\n",
      "init_ = (rng)->init()\n",
      "getNext_ = (rng,s,a)->nextState(s,a)\n",
      "isEnd_ = isEnd\n",
      "reward_ = reward2\n",
      "\n",
      "#initialize problem\n",
      "gm = GenerativeModel(init_,getNext_,isEnd_,reward_)\n",
      "\n",
      "#initialize solvers\n",
      "actor,critic,param, solver,updater = easyInit(2,[1.],[-1.],100,0.0001,\n",
      "cw=0.,cth=0.,ActorLayers=[5.],CriticLayers=[5.],mu=0.9,neuron_type=\"tanh\")\n",
      "\n",
      "#learning rates--note that the actor learning rate is slower than the critic rates\n",
      "alpha_th = 0.0001\n",
      "alpha_v = 0.01\n",
      "alpha_w = 0.01\n",
      "\n",
      "#initialize random number generators\n",
      "trainRNG = MersenneTwister(1)\n",
      "simRNG = MersenneTwister(1000)\n",
      "actRNG = MersenneTwister(500)"
     ],
     "language": "python",
     "metadata": {},
     "outputs": [
      {
       "metadata": {},
       "output_type": "pyout",
       "prompt_number": 2,
       "text": [
        "MersenneTwister(DSFMT_state(Int32[938830538,1072871453,1170800136,1072769465,734670764,1073277462,538801478,1072842120,-2050412471,1073464650  \u2026  2138581182,1073076799,1582226352,1073030312,-1656426133,908496264,-1688936677,866711631,382,0]),Uint32[0x000001f4])"
       ]
      }
     ],
     "prompt_number": 2
    },
    {
     "cell_type": "code",
     "collapsed": false,
     "input": [
      "#train the actor\n",
      "policy, qs = train(gm,trainRNG,actor, critic,param,solver,updater,\n",
      "               time_horizon=5000,num_episodes=50,eps = 0.25,alpha=[alpha_th; alpha_w;alpha_v],\n",
      "gamma=0.99,natural=true, verbose=true,eps=0.25,natural=true,experience_replay=false)\n",
      "abc=0 #suppress out"
     ],
     "language": "python",
     "metadata": {},
     "outputs": [
      {
       "output_type": "stream",
       "stream": "stdout",
       "text": [
        "\n"
       ]
      },
      {
       "output_type": "stream",
       "stream": "stdout",
       "text": [
        "Training Episode 1\b \b\b \b\b \b\b \b\b \b\b \b\b \b\b \b\b \b\b \b\b \b\b \b\b \b\b \b\b \b\b \b\b \b\b \b"
       ]
      },
      {
       "output_type": "stream",
       "stream": "stdout",
       "text": [
        "Training Episode 2\b \b\b \b\b \b\b \b\b \b\b \b\b \b\b \b\b \b\b \b\b \b\b \b\b \b\b \b\b \b\b \b\b \b\b \b"
       ]
      },
      {
       "output_type": "stream",
       "stream": "stdout",
       "text": [
        "Training Episode 3\b \b\b \b\b \b\b \b\b \b\b \b\b \b\b \b\b \b\b \b\b \b\b \b\b \b\b \b\b \b\b \b\b \b\b \b"
       ]
      },
      {
       "output_type": "stream",
       "stream": "stdout",
       "text": [
        "Training Episode 4\b \b\b \b\b \b\b \b\b \b\b \b\b \b\b \b\b \b\b \b\b \b\b \b\b \b\b \b\b \b\b \b\b \b\b \b"
       ]
      },
      {
       "output_type": "stream",
       "stream": "stdout",
       "text": [
        "Training Episode 5\b \b\b \b\b \b\b \b\b \b\b \b\b \b\b \b\b \b\b \b\b \b\b \b\b \b\b \b\b \b\b \b\b \b\b \b"
       ]
      },
      {
       "output_type": "stream",
       "stream": "stdout",
       "text": [
        "Training Episode 6\b \b\b \b\b \b\b \b\b \b\b \b\b \b\b \b\b \b\b \b\b \b\b \b\b \b\b \b\b \b\b \b\b \b\b \b"
       ]
      },
      {
       "output_type": "stream",
       "stream": "stdout",
       "text": [
        "Training Episode 7\b \b\b \b\b \b\b \b\b \b\b \b\b \b\b \b\b \b\b \b\b \b\b \b\b \b\b \b\b \b\b \b\b \b\b \b"
       ]
      },
      {
       "output_type": "stream",
       "stream": "stdout",
       "text": [
        "Training Episode 8\b \b\b \b\b \b\b \b\b \b\b \b\b \b\b \b\b \b\b \b\b \b\b \b\b \b\b \b\b \b\b \b\b \b\b \b"
       ]
      },
      {
       "output_type": "stream",
       "stream": "stdout",
       "text": [
        "Training Episode 9\b \b\b \b\b \b\b \b\b \b\b \b\b \b\b \b\b \b\b \b\b \b\b \b\b \b\b \b\b \b\b \b\b \b\b \b"
       ]
      },
      {
       "output_type": "stream",
       "stream": "stdout",
       "text": [
        "Training Episode 10\b \b\b \b\b \b\b \b\b \b\b \b\b \b\b \b\b \b\b \b\b \b\b \b\b \b\b \b\b \b\b \b\b \b\b \b\b \b"
       ]
      },
      {
       "output_type": "stream",
       "stream": "stdout",
       "text": [
        "Training Episode 11\b \b\b \b\b \b\b \b\b \b\b \b\b \b\b \b\b \b\b \b\b \b\b \b\b \b\b \b\b \b\b \b\b \b\b \b\b \b"
       ]
      },
      {
       "output_type": "stream",
       "stream": "stdout",
       "text": [
        "Training Episode 12\b \b\b \b\b \b\b \b\b \b\b \b\b \b\b \b\b \b\b \b\b \b\b \b\b \b\b \b\b \b\b \b\b \b\b \b\b \b"
       ]
      },
      {
       "output_type": "stream",
       "stream": "stdout",
       "text": [
        "Training Episode 13\b \b\b \b\b \b\b \b\b \b\b \b\b \b\b \b\b \b\b \b\b \b\b \b\b \b\b \b\b \b\b \b\b \b\b \b\b \b"
       ]
      },
      {
       "output_type": "stream",
       "stream": "stdout",
       "text": [
        "Training Episode 14\b \b\b \b\b \b\b \b\b \b\b \b\b \b\b \b\b \b\b \b\b \b\b \b\b \b\b \b\b \b\b \b\b \b\b \b\b \b"
       ]
      },
      {
       "output_type": "stream",
       "stream": "stdout",
       "text": [
        "Training Episode 15\b \b\b \b\b \b\b \b\b \b\b \b\b \b\b \b\b \b\b \b\b \b\b \b\b \b\b \b\b \b\b \b\b \b\b \b\b \b"
       ]
      },
      {
       "output_type": "stream",
       "stream": "stdout",
       "text": [
        "Training Episode 16\b \b\b \b\b \b\b \b\b \b\b \b\b \b\b \b\b \b\b \b\b \b\b \b\b \b\b \b\b \b\b \b\b \b\b \b\b \b"
       ]
      },
      {
       "output_type": "stream",
       "stream": "stdout",
       "text": [
        "Training Episode 17\b \b\b \b\b \b\b \b\b \b\b \b\b \b\b \b\b \b\b \b\b \b\b \b\b \b\b \b\b \b\b \b\b \b\b \b\b \b"
       ]
      },
      {
       "output_type": "stream",
       "stream": "stdout",
       "text": [
        "Training Episode 18\b \b\b \b\b \b\b \b\b \b\b \b\b \b\b \b\b \b\b \b\b \b\b \b\b \b\b \b\b \b\b \b\b \b\b \b\b \b"
       ]
      },
      {
       "output_type": "stream",
       "stream": "stdout",
       "text": [
        "Training Episode 19\b \b\b \b\b \b\b \b\b \b\b \b\b \b\b \b\b \b\b \b\b \b\b \b\b \b\b \b\b \b\b \b\b \b\b \b\b \b"
       ]
      },
      {
       "output_type": "stream",
       "stream": "stdout",
       "text": [
        "Training Episode 20\b \b\b \b\b \b\b \b\b \b\b \b\b \b\b \b\b \b\b \b\b \b\b \b\b \b\b \b\b \b\b \b\b \b\b \b\b \b"
       ]
      },
      {
       "output_type": "stream",
       "stream": "stdout",
       "text": [
        "Training Episode 21\b \b\b \b\b \b\b \b\b \b\b \b\b \b\b \b\b \b\b \b\b \b\b \b\b \b\b \b\b \b\b \b\b \b\b \b\b \b"
       ]
      },
      {
       "output_type": "stream",
       "stream": "stdout",
       "text": [
        "Training Episode 22\b \b\b \b\b \b\b \b\b \b\b \b\b \b\b \b\b \b\b \b\b \b\b \b\b \b\b \b\b \b\b \b\b \b\b \b\b \b"
       ]
      },
      {
       "output_type": "stream",
       "stream": "stdout",
       "text": [
        "Training Episode 23\b \b\b \b\b \b\b \b\b \b\b \b\b \b\b \b\b \b\b \b\b \b\b \b\b \b\b \b\b \b\b \b\b \b\b \b\b \b"
       ]
      },
      {
       "output_type": "stream",
       "stream": "stdout",
       "text": [
        "Training Episode 24\b \b\b \b\b \b\b \b\b \b\b \b\b \b\b \b\b \b\b \b\b \b\b \b\b \b\b \b\b \b\b \b\b \b\b \b\b \b"
       ]
      },
      {
       "output_type": "stream",
       "stream": "stdout",
       "text": [
        "Training Episode 25\b \b\b \b\b \b\b \b\b \b\b \b\b \b\b \b\b \b\b \b\b \b\b \b\b \b\b \b\b \b\b \b\b \b\b \b\b \b"
       ]
      },
      {
       "output_type": "stream",
       "stream": "stdout",
       "text": [
        "Training Episode 26\b \b\b \b\b \b\b \b\b \b\b \b\b \b\b \b\b \b\b \b\b \b\b \b\b \b\b \b\b \b\b \b\b \b\b \b\b \b"
       ]
      },
      {
       "output_type": "stream",
       "stream": "stdout",
       "text": [
        "Training Episode 27\b \b\b \b\b \b\b \b\b \b\b \b\b \b\b \b\b \b\b \b\b \b\b \b\b \b\b \b\b \b\b \b\b \b\b \b\b \b"
       ]
      },
      {
       "output_type": "stream",
       "stream": "stdout",
       "text": [
        "Training Episode 28\b \b\b \b\b \b\b \b\b \b\b \b\b \b\b \b\b \b\b \b\b \b\b \b\b \b\b \b\b \b\b \b\b \b\b \b\b \b"
       ]
      },
      {
       "output_type": "stream",
       "stream": "stdout",
       "text": [
        "Training Episode 29\b \b\b \b\b \b\b \b\b \b\b \b\b \b\b \b\b \b\b \b\b \b\b \b\b \b\b \b\b \b\b \b\b \b\b \b\b \b"
       ]
      },
      {
       "output_type": "stream",
       "stream": "stdout",
       "text": [
        "Training Episode 30\b \b\b \b\b \b\b \b\b \b\b \b\b \b\b \b\b \b\b \b\b \b\b \b\b \b\b \b\b \b\b \b\b \b\b \b\b \b"
       ]
      },
      {
       "output_type": "stream",
       "stream": "stdout",
       "text": [
        "Training Episode 31\b \b\b \b\b \b\b \b\b \b\b \b\b \b\b \b\b \b\b \b\b \b\b \b\b \b\b \b\b \b\b \b\b \b\b \b\b \b"
       ]
      },
      {
       "output_type": "stream",
       "stream": "stdout",
       "text": [
        "Training Episode 32\b \b\b \b\b \b\b \b\b \b\b \b\b \b\b \b\b \b\b \b\b \b\b \b\b \b\b \b\b \b\b \b\b \b\b \b\b \b"
       ]
      },
      {
       "output_type": "stream",
       "stream": "stdout",
       "text": [
        "Training Episode 33\b \b\b \b\b \b\b \b\b \b\b \b\b \b\b \b\b \b\b \b\b \b\b \b\b \b\b \b\b \b\b \b\b \b\b \b\b \b"
       ]
      },
      {
       "output_type": "stream",
       "stream": "stdout",
       "text": [
        "Training Episode 34\b \b\b \b\b \b\b \b\b \b\b \b\b \b\b \b\b \b\b \b\b \b\b \b\b \b\b \b\b \b\b \b\b \b\b \b\b \b"
       ]
      },
      {
       "output_type": "stream",
       "stream": "stdout",
       "text": [
        "Training Episode 35\b \b\b \b\b \b\b \b\b \b\b \b\b \b\b \b\b \b\b \b\b \b\b \b\b \b\b \b\b \b\b \b\b \b\b \b\b \b"
       ]
      },
      {
       "output_type": "stream",
       "stream": "stdout",
       "text": [
        "Training Episode 36\b \b\b \b\b \b\b \b\b \b\b \b\b \b\b \b\b \b\b \b\b \b\b \b\b \b\b \b\b \b\b \b\b \b\b \b\b \b"
       ]
      },
      {
       "output_type": "stream",
       "stream": "stdout",
       "text": [
        "Training Episode 37\b \b\b \b\b \b\b \b\b \b\b \b\b \b\b \b\b \b\b \b\b \b\b \b\b \b\b \b\b \b\b \b\b \b\b \b\b \b"
       ]
      },
      {
       "output_type": "stream",
       "stream": "stdout",
       "text": [
        "Training Episode 38\b \b\b \b\b \b\b \b\b \b\b \b\b \b\b \b\b \b\b \b\b \b\b \b\b \b\b \b\b \b\b \b\b \b\b \b\b \b"
       ]
      },
      {
       "output_type": "stream",
       "stream": "stdout",
       "text": [
        "Training Episode 39\b \b\b \b\b \b\b \b\b \b\b \b\b \b\b \b\b \b\b \b\b \b\b \b\b \b\b \b\b \b\b \b\b \b\b \b\b \b"
       ]
      },
      {
       "output_type": "stream",
       "stream": "stdout",
       "text": [
        "Training Episode 40\b \b\b \b\b \b\b \b\b \b\b \b\b \b\b \b\b \b\b \b\b \b\b \b\b \b\b \b\b \b\b \b\b \b\b \b\b \b"
       ]
      },
      {
       "output_type": "stream",
       "stream": "stdout",
       "text": [
        "Training Episode 41\b \b\b \b\b \b\b \b\b \b\b \b\b \b\b \b\b \b\b \b\b \b\b \b\b \b\b \b\b \b\b \b\b \b\b \b\b \b"
       ]
      },
      {
       "output_type": "stream",
       "stream": "stdout",
       "text": [
        "Training Episode 42\b \b\b \b\b \b\b \b\b \b\b \b\b \b\b \b\b \b\b \b\b \b\b \b\b \b\b \b\b \b\b \b\b \b\b \b\b \b"
       ]
      },
      {
       "output_type": "stream",
       "stream": "stdout",
       "text": [
        "Training Episode 43\b \b\b \b\b \b\b \b\b \b\b \b\b \b\b \b\b \b\b \b\b \b\b \b\b \b\b \b\b \b\b \b\b \b\b \b\b \b"
       ]
      },
      {
       "output_type": "stream",
       "stream": "stdout",
       "text": [
        "Training Episode 44\b \b\b \b\b \b\b \b\b \b\b \b\b \b\b \b\b \b\b \b\b \b\b \b\b \b\b \b\b \b\b \b\b \b\b \b\b \b"
       ]
      },
      {
       "output_type": "stream",
       "stream": "stdout",
       "text": [
        "Training Episode 45\b \b\b \b\b \b\b \b\b \b\b \b\b \b\b \b\b \b\b \b\b \b\b \b\b \b\b \b\b \b\b \b\b \b\b \b\b \b"
       ]
      },
      {
       "output_type": "stream",
       "stream": "stdout",
       "text": [
        "Training Episode 46\b \b\b \b\b \b\b \b\b \b\b \b\b \b\b \b\b \b\b \b\b \b\b \b\b \b\b \b\b \b\b \b\b \b\b \b\b \b"
       ]
      },
      {
       "output_type": "stream",
       "stream": "stdout",
       "text": [
        "Training Episode 47\b \b\b \b\b \b\b \b\b \b\b \b\b \b\b \b\b \b\b \b\b \b\b \b\b \b\b \b\b \b\b \b\b \b\b \b\b \b"
       ]
      },
      {
       "output_type": "stream",
       "stream": "stdout",
       "text": [
        "Training Episode 48\b \b\b \b\b \b\b \b\b \b\b \b\b \b\b \b\b \b\b \b\b \b\b \b\b \b\b \b\b \b\b \b\b \b\b \b\b \b"
       ]
      },
      {
       "output_type": "stream",
       "stream": "stdout",
       "text": [
        "Training Episode 49\b \b\b \b\b \b\b \b\b \b\b \b\b \b\b \b\b \b\b \b\b \b\b \b\b \b\b \b\b \b\b \b\b \b\b \b\b \b"
       ]
      },
      {
       "output_type": "stream",
       "stream": "stdout",
       "text": [
        "Training Episode 50"
       ]
      },
      {
       "metadata": {},
       "output_type": "pyout",
       "prompt_number": 3,
       "text": [
        "0"
       ]
      }
     ],
     "prompt_number": 3
    },
    {
     "cell_type": "code",
     "collapsed": false,
     "input": [
      "#display the average value of each training episode, *should* move towards the initial value function, then begin to noisily go up\n",
      "plot(qs)"
     ],
     "language": "python",
     "metadata": {},
     "outputs": [
      {
       "metadata": {},
       "output_type": "display_data",
       "png": "[encoded data removed]",
       "text": [
        "Figure(PyObject <matplotlib.figure.Figure object at 0x7fa425f4acd0>)"
       ]
      },
      {
       "metadata": {},
       "output_type": "pyout",
       "prompt_number": 4,
       "text": [
        "1-element Array{Any,1}:\n",
        " PyObject <matplotlib.lines.Line2D object at 0x7fa45aa49050>"
       ]
      }
     ],
     "prompt_number": 4
    },
    {
     "cell_type": "code",
     "collapsed": false,
     "input": [
      "#simulate the policy\n",
      "nSims = 100\n",
      "R_,hists = runSim(gm,simRNG,actRNG,policy,time_horizon=5000,recordHist=false,nSims=nSims,verbose=true)\n",
      "abc=0 #suppress output"
     ],
     "language": "python",
     "metadata": {},
     "outputs": [
      {
       "output_type": "stream",
       "stream": "stdout",
       "text": [
        "\n"
       ]
      },
      {
       "output_type": "stream",
       "stream": "stdout",
       "text": [
        "Sim 1\b \b\b \b\b \b\b \b\b \b"
       ]
      },
      {
       "output_type": "stream",
       "stream": "stdout",
       "text": [
        "Sim 2\b \b\b \b\b \b\b \b\b \b"
       ]
      },
      {
       "output_type": "stream",
       "stream": "stdout",
       "text": [
        "Sim 3\b \b\b \b\b \b\b \b\b \b"
       ]
      },
      {
       "output_type": "stream",
       "stream": "stdout",
       "text": [
        "Sim 4\b \b\b \b\b \b\b \b\b \b"
       ]
      },
      {
       "output_type": "stream",
       "stream": "stdout",
       "text": [
        "Sim 5\b \b\b \b\b \b\b \b\b \b"
       ]
      },
      {
       "output_type": "stream",
       "stream": "stdout",
       "text": [
        "Sim 6\b \b\b \b\b \b\b \b\b \b"
       ]
      },
      {
       "output_type": "stream",
       "stream": "stdout",
       "text": [
        "Sim 7\b \b\b \b\b \b\b \b\b \b"
       ]
      },
      {
       "output_type": "stream",
       "stream": "stdout",
       "text": [
        "Sim 8\b \b\b \b\b \b\b \b\b \b"
       ]
      },
      {
       "output_type": "stream",
       "stream": "stdout",
       "text": [
        "Sim 9\b \b\b \b\b \b\b \b\b \b"
       ]
      },
      {
       "output_type": "stream",
       "stream": "stdout",
       "text": [
        "Sim 10\b \b\b \b\b \b\b \b\b \b\b \b"
       ]
      },
      {
       "output_type": "stream",
       "stream": "stdout",
       "text": [
        "Sim 11\b \b\b \b\b \b\b \b\b \b\b \b"
       ]
      },
      {
       "output_type": "stream",
       "stream": "stdout",
       "text": [
        "Sim 12\b \b\b \b\b \b\b \b\b \b\b \b"
       ]
      },
      {
       "output_type": "stream",
       "stream": "stdout",
       "text": [
        "Sim 13\b \b\b \b\b \b\b \b\b \b\b \b"
       ]
      },
      {
       "output_type": "stream",
       "stream": "stdout",
       "text": [
        "Sim 14\b \b\b \b\b \b\b \b\b \b\b \b"
       ]
      },
      {
       "output_type": "stream",
       "stream": "stdout",
       "text": [
        "Sim 15\b \b\b \b\b \b\b \b\b \b\b \b"
       ]
      },
      {
       "output_type": "stream",
       "stream": "stdout",
       "text": [
        "Sim 16\b \b\b \b\b \b\b \b\b \b\b \b"
       ]
      },
      {
       "output_type": "stream",
       "stream": "stdout",
       "text": [
        "Sim 17\b \b\b \b\b \b\b \b\b \b\b \b"
       ]
      },
      {
       "output_type": "stream",
       "stream": "stdout",
       "text": [
        "Sim 18\b \b\b \b\b \b\b \b\b \b\b \b"
       ]
      },
      {
       "output_type": "stream",
       "stream": "stdout",
       "text": [
        "Sim 19\b \b\b \b\b \b\b \b\b \b\b \b"
       ]
      },
      {
       "output_type": "stream",
       "stream": "stdout",
       "text": [
        "Sim 20\b \b\b \b\b \b\b \b\b \b\b \b"
       ]
      },
      {
       "output_type": "stream",
       "stream": "stdout",
       "text": [
        "Sim 21\b \b\b \b\b \b\b \b\b \b\b \b"
       ]
      },
      {
       "output_type": "stream",
       "stream": "stdout",
       "text": [
        "Sim 22\b \b\b \b\b \b\b \b\b \b\b \b"
       ]
      },
      {
       "output_type": "stream",
       "stream": "stdout",
       "text": [
        "Sim 23\b \b\b \b\b \b\b \b\b \b\b \b"
       ]
      },
      {
       "output_type": "stream",
       "stream": "stdout",
       "text": [
        "Sim 24\b \b\b \b\b \b\b \b\b \b\b \b"
       ]
      },
      {
       "output_type": "stream",
       "stream": "stdout",
       "text": [
        "Sim 25\b \b\b \b\b \b\b \b\b \b\b \b"
       ]
      },
      {
       "output_type": "stream",
       "stream": "stdout",
       "text": [
        "Sim 26\b \b\b \b\b \b\b \b\b \b\b \b"
       ]
      },
      {
       "output_type": "stream",
       "stream": "stdout",
       "text": [
        "Sim 27\b \b\b \b\b \b\b \b\b \b\b \b"
       ]
      },
      {
       "output_type": "stream",
       "stream": "stdout",
       "text": [
        "Sim 28\b \b\b \b\b \b\b \b\b \b\b \b"
       ]
      },
      {
       "output_type": "stream",
       "stream": "stdout",
       "text": [
        "Sim 29\b \b\b \b\b \b\b \b\b \b\b \b"
       ]
      },
      {
       "output_type": "stream",
       "stream": "stdout",
       "text": [
        "Sim 30\b \b\b \b\b \b\b \b\b \b\b \b"
       ]
      },
      {
       "output_type": "stream",
       "stream": "stdout",
       "text": [
        "Sim 31\b \b\b \b\b \b\b \b\b \b\b \b"
       ]
      },
      {
       "output_type": "stream",
       "stream": "stdout",
       "text": [
        "Sim 32\b \b\b \b\b \b\b \b\b \b\b \b"
       ]
      },
      {
       "output_type": "stream",
       "stream": "stdout",
       "text": [
        "Sim 33\b \b\b \b\b \b\b \b\b \b\b \b"
       ]
      },
      {
       "output_type": "stream",
       "stream": "stdout",
       "text": [
        "Sim 34\b \b\b \b\b \b\b \b\b \b\b \b"
       ]
      },
      {
       "output_type": "stream",
       "stream": "stdout",
       "text": [
        "Sim 35\b \b\b \b\b \b\b \b\b \b\b \b"
       ]
      },
      {
       "output_type": "stream",
       "stream": "stdout",
       "text": [
        "Sim 36\b \b\b \b\b \b\b \b\b \b\b \b"
       ]
      },
      {
       "output_type": "stream",
       "stream": "stdout",
       "text": [
        "Sim 37\b \b\b \b\b \b\b \b\b \b\b \b"
       ]
      },
      {
       "output_type": "stream",
       "stream": "stdout",
       "text": [
        "Sim 38\b \b\b \b\b \b\b \b\b \b\b \b"
       ]
      },
      {
       "output_type": "stream",
       "stream": "stdout",
       "text": [
        "Sim 39\b \b\b \b\b \b\b \b\b \b\b \b"
       ]
      },
      {
       "output_type": "stream",
       "stream": "stdout",
       "text": [
        "Sim 40\b \b\b \b\b \b\b \b\b \b\b \b"
       ]
      },
      {
       "output_type": "stream",
       "stream": "stdout",
       "text": [
        "Sim 41\b \b\b \b\b \b\b \b\b \b\b \b"
       ]
      },
      {
       "output_type": "stream",
       "stream": "stdout",
       "text": [
        "Sim 42\b \b\b \b\b \b\b \b\b \b\b \b"
       ]
      },
      {
       "output_type": "stream",
       "stream": "stdout",
       "text": [
        "Sim 43\b \b\b \b\b \b\b \b\b \b\b \b"
       ]
      },
      {
       "output_type": "stream",
       "stream": "stdout",
       "text": [
        "Sim 44\b \b\b \b\b \b\b \b\b \b\b \b"
       ]
      },
      {
       "output_type": "stream",
       "stream": "stdout",
       "text": [
        "Sim 45\b \b\b \b\b \b\b \b\b \b\b \b"
       ]
      },
      {
       "output_type": "stream",
       "stream": "stdout",
       "text": [
        "Sim 46\b \b\b \b\b \b\b \b\b \b\b \b"
       ]
      },
      {
       "output_type": "stream",
       "stream": "stdout",
       "text": [
        "Sim 47\b \b\b \b\b \b\b \b\b \b\b \b"
       ]
      },
      {
       "output_type": "stream",
       "stream": "stdout",
       "text": [
        "Sim 48\b \b\b \b\b \b\b \b\b \b\b \b"
       ]
      },
      {
       "output_type": "stream",
       "stream": "stdout",
       "text": [
        "Sim 49\b \b\b \b\b \b\b \b\b \b\b \b"
       ]
      },
      {
       "output_type": "stream",
       "stream": "stdout",
       "text": [
        "Sim 50\b \b\b \b\b \b\b \b\b \b\b \b"
       ]
      },
      {
       "output_type": "stream",
       "stream": "stdout",
       "text": [
        "Sim 51\b \b\b \b\b \b\b \b\b \b\b \b"
       ]
      },
      {
       "output_type": "stream",
       "stream": "stdout",
       "text": [
        "Sim 52\b \b\b \b\b \b\b \b\b \b\b \b"
       ]
      },
      {
       "output_type": "stream",
       "stream": "stdout",
       "text": [
        "Sim 53\b \b\b \b\b \b\b \b\b \b\b \b"
       ]
      },
      {
       "output_type": "stream",
       "stream": "stdout",
       "text": [
        "Sim 54\b \b\b \b\b \b\b \b\b \b\b \b"
       ]
      },
      {
       "output_type": "stream",
       "stream": "stdout",
       "text": [
        "Sim 55\b \b\b \b\b \b\b \b\b \b\b \b"
       ]
      },
      {
       "output_type": "stream",
       "stream": "stdout",
       "text": [
        "Sim 56\b \b\b \b\b \b\b \b\b \b\b \b"
       ]
      },
      {
       "output_type": "stream",
       "stream": "stdout",
       "text": [
        "Sim 57\b \b\b \b\b \b\b \b\b \b\b \b"
       ]
      },
      {
       "output_type": "stream",
       "stream": "stdout",
       "text": [
        "Sim 58\b \b\b \b\b \b\b \b\b \b\b \b"
       ]
      },
      {
       "output_type": "stream",
       "stream": "stdout",
       "text": [
        "Sim 59\b \b\b \b\b \b\b \b\b \b\b \b"
       ]
      },
      {
       "output_type": "stream",
       "stream": "stdout",
       "text": [
        "Sim 60\b \b\b \b\b \b\b \b\b \b\b \b"
       ]
      },
      {
       "output_type": "stream",
       "stream": "stdout",
       "text": [
        "Sim 61\b \b\b \b\b \b\b \b\b \b\b \b"
       ]
      },
      {
       "output_type": "stream",
       "stream": "stdout",
       "text": [
        "Sim 62\b \b\b \b\b \b\b \b\b \b\b \b"
       ]
      },
      {
       "output_type": "stream",
       "stream": "stdout",
       "text": [
        "Sim 63\b \b\b \b\b \b\b \b\b \b\b \b"
       ]
      },
      {
       "output_type": "stream",
       "stream": "stdout",
       "text": [
        "Sim 64\b \b\b \b\b \b\b \b\b \b\b \b"
       ]
      },
      {
       "output_type": "stream",
       "stream": "stdout",
       "text": [
        "Sim 65\b \b\b \b\b \b\b \b\b \b\b \b"
       ]
      },
      {
       "output_type": "stream",
       "stream": "stdout",
       "text": [
        "Sim 66\b \b\b \b\b \b\b \b\b \b\b \b"
       ]
      },
      {
       "output_type": "stream",
       "stream": "stdout",
       "text": [
        "Sim 67\b \b\b \b\b \b\b \b\b \b\b \b"
       ]
      },
      {
       "output_type": "stream",
       "stream": "stdout",
       "text": [
        "Sim 68\b \b\b \b\b \b\b \b\b \b\b \b"
       ]
      },
      {
       "output_type": "stream",
       "stream": "stdout",
       "text": [
        "Sim 69\b \b\b \b\b \b\b \b\b \b\b \b"
       ]
      },
      {
       "output_type": "stream",
       "stream": "stdout",
       "text": [
        "Sim 70\b \b\b \b\b \b\b \b\b \b\b \b"
       ]
      },
      {
       "output_type": "stream",
       "stream": "stdout",
       "text": [
        "Sim 71\b \b\b \b\b \b\b \b\b \b\b \b"
       ]
      },
      {
       "output_type": "stream",
       "stream": "stdout",
       "text": [
        "Sim 72\b \b\b \b\b \b\b \b\b \b\b \b"
       ]
      },
      {
       "output_type": "stream",
       "stream": "stdout",
       "text": [
        "Sim 73\b \b\b \b\b \b\b \b\b \b\b \b"
       ]
      },
      {
       "output_type": "stream",
       "stream": "stdout",
       "text": [
        "Sim 74\b \b\b \b\b \b\b \b\b \b\b \b"
       ]
      },
      {
       "output_type": "stream",
       "stream": "stdout",
       "text": [
        "Sim 75\b \b\b \b\b \b\b \b\b \b\b \b"
       ]
      },
      {
       "output_type": "stream",
       "stream": "stdout",
       "text": [
        "Sim 76\b \b\b \b\b \b\b \b\b \b\b \b"
       ]
      },
      {
       "output_type": "stream",
       "stream": "stdout",
       "text": [
        "Sim 77\b \b\b \b\b \b\b \b\b \b\b \b"
       ]
      },
      {
       "output_type": "stream",
       "stream": "stdout",
       "text": [
        "Sim 78\b \b\b \b\b \b\b \b\b \b\b \b"
       ]
      },
      {
       "output_type": "stream",
       "stream": "stdout",
       "text": [
        "Sim 79\b \b\b \b\b \b\b \b\b \b\b \b"
       ]
      },
      {
       "output_type": "stream",
       "stream": "stdout",
       "text": [
        "Sim 80\b \b\b \b\b \b\b \b\b \b\b \b"
       ]
      },
      {
       "output_type": "stream",
       "stream": "stdout",
       "text": [
        "Sim 81\b \b\b \b\b \b\b \b\b \b\b \b"
       ]
      },
      {
       "output_type": "stream",
       "stream": "stdout",
       "text": [
        "Sim 82\b \b\b \b\b \b\b \b\b \b\b \b"
       ]
      },
      {
       "output_type": "stream",
       "stream": "stdout",
       "text": [
        "Sim 83\b \b\b \b\b \b\b \b\b \b\b \b"
       ]
      },
      {
       "output_type": "stream",
       "stream": "stdout",
       "text": [
        "Sim 84\b \b\b \b\b \b\b \b\b \b\b \b"
       ]
      },
      {
       "output_type": "stream",
       "stream": "stdout",
       "text": [
        "Sim 85\b \b\b \b\b \b\b \b\b \b\b \b"
       ]
      },
      {
       "output_type": "stream",
       "stream": "stdout",
       "text": [
        "Sim 86\b \b\b \b\b \b\b \b\b \b\b \b"
       ]
      },
      {
       "output_type": "stream",
       "stream": "stdout",
       "text": [
        "Sim 87\b \b\b \b\b \b\b \b\b \b\b \b"
       ]
      },
      {
       "output_type": "stream",
       "stream": "stdout",
       "text": [
        "Sim 88\b \b\b \b\b \b\b \b\b \b\b \b"
       ]
      },
      {
       "output_type": "stream",
       "stream": "stdout",
       "text": [
        "Sim 89\b \b\b \b\b \b\b \b\b \b\b \b"
       ]
      },
      {
       "output_type": "stream",
       "stream": "stdout",
       "text": [
        "Sim 90\b \b\b \b\b \b\b \b\b \b\b \b"
       ]
      },
      {
       "output_type": "stream",
       "stream": "stdout",
       "text": [
        "Sim 91\b \b\b \b\b \b\b \b\b \b\b \b"
       ]
      },
      {
       "output_type": "stream",
       "stream": "stdout",
       "text": [
        "Sim 92\b \b\b \b\b \b\b \b\b \b\b \b"
       ]
      },
      {
       "output_type": "stream",
       "stream": "stdout",
       "text": [
        "Sim 93\b \b\b \b\b \b\b \b\b \b\b \b"
       ]
      },
      {
       "output_type": "stream",
       "stream": "stdout",
       "text": [
        "Sim 94\b \b\b \b\b \b\b \b\b \b\b \b"
       ]
      },
      {
       "output_type": "stream",
       "stream": "stdout",
       "text": [
        "Sim 95\b \b\b \b\b \b\b \b\b \b\b \b"
       ]
      },
      {
       "output_type": "stream",
       "stream": "stdout",
       "text": [
        "Sim 96\b \b\b \b\b \b\b \b\b \b\b \b"
       ]
      },
      {
       "output_type": "stream",
       "stream": "stdout",
       "text": [
        "Sim 97\b \b\b \b\b \b\b \b\b \b\b \b"
       ]
      },
      {
       "output_type": "stream",
       "stream": "stdout",
       "text": [
        "Sim 98\b \b\b \b\b \b\b \b\b \b\b \b"
       ]
      },
      {
       "output_type": "stream",
       "stream": "stdout",
       "text": [
        "Sim 99\b \b\b \b\b \b\b \b\b \b\b \b"
       ]
      },
      {
       "output_type": "stream",
       "stream": "stdout",
       "text": [
        "Sim 100\n",
        "-"
       ]
      },
      {
       "output_type": "stream",
       "stream": "stdout",
       "text": [
        "4948.406562480085\n"
       ]
      },
      {
       "metadata": {},
       "output_type": "pyout",
       "prompt_number": 5,
       "text": [
        "0"
       ]
      }
     ],
     "prompt_number": 5
    },
    {
     "cell_type": "code",
     "collapsed": false,
     "input": [
      "#compare against a heuristic\n",
      "#physics inspired (optimal?) heuristic\n",
      "policy = (rng,s)->s[2]>0.?[1.]:[-1.]\n",
      "R_,hists = runSim(gm,simRNG,actRNG,policy,time_horizon=5000,recordHist=false,nSims=nSims,verbose=true)\n",
      "abc = 0 #suppress output"
     ],
     "language": "python",
     "metadata": {},
     "outputs": [
      {
       "output_type": "stream",
       "stream": "stdout",
       "text": [
        "\n"
       ]
      },
      {
       "ename": "LoadError",
       "evalue": "t not defined\nwhile loading In[6], in expression starting on line 4",
       "output_type": "pyerr",
       "traceback": [
        "t not defined\nwhile loading In[6], in expression starting on line 4",
        "",
        " in simulate at /home/emueller/.julia/v0.3/NeuralNetworkDeterministicPolicyGradient/src/ActorCritic.jl:98",
        " in runSim at /home/emueller/.julia/v0.3/NeuralNetworkDeterministicPolicyGradient/src/ActorCritic.jl:111"
       ]
      }
     ],
     "prompt_number": 6
    },
    {
     "cell_type": "code",
     "collapsed": false,
     "input": [
      "s=gm.initState(simRNG)\n",
      "a=policy(actRNG,s)\n",
      "time_horizon=5000\n",
      "recordHist=true\n",
      "histX = typeof(s)[]\n",
      "  histU = typeof(a)[]\n",
      "  push!(histX,s)\n",
      "  push!(histU,a)\n",
      "  R = 0.\n",
      "  for t = 1:time_horizon\n",
      "    R += gm.reward(s,a)\n",
      "    s = gm.nextState(simRNG,s,a)\n",
      "    a = policy(actRNG,s)\n",
      "    if recordHist\n",
      "      push!(histX,s)\n",
      "      push!(histU,a)\n",
      "    end\n",
      "    if gm.isEnd(s)\n",
      "      break\n",
      "    end\n",
      "  end\n",
      "  \n",
      " # hist = History{typeof(s),typeof(a)}(histX,histU)"
     ],
     "language": "python",
     "metadata": {},
     "outputs": [],
     "prompt_number": 6
    },
    {
     "cell_type": "code",
     "collapsed": false,
     "input": [
      "x=Array(Float64,length(histX))\n",
      "v=Array(Float64,length(histX))\n",
      "for i=1:length(histX)\n",
      "    x[i]=histX[i][1]\n",
      "    v[i]=histX[i][2]\n",
      "end\n",
      "plot(x,v)"
     ],
     "language": "python",
     "metadata": {},
     "outputs": [
      {
       "metadata": {},
       "output_type": "display_data",
       "png": "[encoded data removed]",
       "text": [
        "Figure(PyObject <matplotlib.figure.Figure object at 0x7fa45aa7b690>)"
       ]
      },
      {
       "metadata": {},
       "output_type": "pyout",
       "prompt_number": 7,
       "text": [
        "1-element Array{Any,1}:\n",
        " PyObject <matplotlib.lines.Line2D object at 0x7fa42542cbd0>"
       ]
      }
     ],
     "prompt_number": 7
    },
    {
     "cell_type": "code",
     "collapsed": false,
     "input": [],
     "language": "python",
     "metadata": {},
     "outputs": []
    }
   ],
   "metadata": {}
  }
 ]
}